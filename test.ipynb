{
 "cells": [
  {
   "cell_type": "code",
   "execution_count": 4,
   "id": "2d75a3ac",
   "metadata": {},
   "outputs": [
    {
     "name": "stdout",
     "output_type": "stream",
     "text": [
      "Bản tóm tắt: Cục Dự trữ Liên bang Mỹ ( Fed ) giữ nguyên lãi suất trong ngày 8-5 nhưng giới đầu tư không mặn mà với quý kim vàng vì lo ngại tăng trưởng kinh tế chậm , áp lực bán vào kim loại quý này cũng gia tăng .\n"
     ]
    }
   ],
   "source": [
    "from transformers import T5Tokenizer, T5ForConditionalGeneration\n",
    "\n",
    "\n",
    "model_name = \"VietAI/vit5-base-vietnews-summarization\"\n",
    "tokenizer = T5Tokenizer.from_pretrained(model_name)\n",
    "model = T5ForConditionalGeneration.from_pretrained(model_name)\n",
    "\n",
    "# Input text\n",
    "text = \"\"\"Đến 6 giờ ngày 8-5, giá vàng thế giới giao ngay giảm còn 3.370 USD/ounce, mất 25 USD so với mức cao nhất trong phiên giao dịch đêm qua là 3.395 USD/ounce.\n",
    "\n",
    "Đêm qua, Fed công bố giữ nguyên lãi suất chuẩn trong khoảng 4,25% - 4,5%, không đổi kể từ tháng 12-2024. Quyết định này phản ánh sự thận trọng của Fed trước áp lực lạm phát dai dẳng và nguy cơ tăng trưởng kinh tế chậm lại.\n",
    "\n",
    "Lãi suất cao khiến vàng, tài sản không sinh lời, trở nên kém hấp dẫn. Nhà đầu tư có xu hướng chuyển sang các kênh sinh lợi như trái phiếu, đẩy áp lực bán lên kim loại quý này .\n",
    "\n",
    "Chủ tịch Fed Jerome Powell nhấn mạnh lập trường \"chờ đợi và quan sát\", tránh vội vàng điều chỉnh chính sách tiền tệ. Phát biểu này khiến thị trường vàng thêm thận trọng, hạn chế lực mua và góp phần đẩy giá vàng đi xuống.\n",
    "\n",
    "Dù đồng USD suy yếu nhẹ nhưng mức giảm này không đủ để hỗ trợ giá vàng. Trong khi đó, chứng khoán quốc tế tăng điểm \n",
    "nhờ chính sách bơm tiền kích thích kinh tế của Trung Quốc. Điều này làm lu mờ sức hút của giá vàng hôm nay.\"\"\"\n",
    "\n",
    "# Encode input text\n",
    "input_ids = tokenizer.encode(\"summarize: \" + text, return_tensors=\"pt\", max_length=1028, truncation=True)\n",
    "\n",
    "# Generate summary\n",
    "summary_ids = model.generate(input_ids, max_length=150, min_length=50, length_penalty=2.0, num_beams=4, early_stopping=True)\n",
    "summary = tokenizer.decode(summary_ids[0], skip_special_tokens=True)\n",
    "\n",
    "print(\"Bản tóm tắt:\", summary)\n"
   ]
  },
  {
   "cell_type": "code",
   "execution_count": 3,
   "id": "c9cb3d36",
   "metadata": {},
   "outputs": [
    {
     "name": "stdout",
     "output_type": "stream",
     "text": [
      "Bản tóm tắt: Cục Dự trữ Liên bang Mỹ ( Fed) vừa đưa ra quyết định giữ nguyên mức lãi suất chuẩn trong 4,25% - 4,5%, không đổi kể từ tháng 12-2024. Trong khi đó, chứng khoán quốc tế lại tăng điểm nhờ chính sách bơm tiền của Trung Quốc.\n"
     ]
    }
   ],
   "source": [
    "from transformers import T5Tokenizer, T5ForConditionalGeneration\n",
    "\n",
    "# Load mô hình và tokenizer đã huấn luyện của bạn\n",
    "model = T5ForConditionalGeneration.from_pretrained(\"./model-summary\")\n",
    "tokenizer = T5Tokenizer.from_pretrained(\"./model-summary\")\n",
    "\n",
    "# Input text\n",
    "text = \"\"\"Đến 6 giờ ngày 8-5, giá vàng thế giới giao ngay giảm còn 3.370 USD/ounce, mất 25 USD so với mức cao nhất trong phiên giao dịch đêm qua là 3.395 USD/ounce.\n",
    "\n",
    "Đêm qua, Fed công bố giữ nguyên lãi suất chuẩn trong khoảng 4,25% - 4,5%, không đổi kể từ tháng 12-2024. Quyết định này phản ánh sự thận trọng của Fed trước áp lực lạm phát dai dẳng và nguy cơ tăng trưởng kinh tế chậm lại.\n",
    "\n",
    "Lãi suất cao khiến vàng, tài sản không sinh lời, trở nên kém hấp dẫn. Nhà đầu tư có xu hướng chuyển sang các kênh sinh lợi như trái phiếu, đẩy áp lực bán lên kim loại quý này .\n",
    "\n",
    "Chủ tịch Fed Jerome Powell nhấn mạnh lập trường \"chờ đợi và quan sát\", tránh vội vàng điều chỉnh chính sách tiền tệ. Phát biểu này khiến thị trường vàng thêm thận trọng, hạn chế lực mua và góp phần đẩy giá vàng đi xuống.\n",
    "\n",
    "Dù đồng USD suy yếu nhẹ nhưng mức giảm này không đủ để hỗ trợ giá vàng. Trong khi đó, chứng khoán quốc tế tăng điểm \n",
    "nhờ chính sách bơm tiền kích thích kinh tế của Trung Quốc. Điều này làm lu mờ sức hút của giá vàng hôm nay.\"\"\"\n",
    "\n",
    "# Encode input text\n",
    "input_ids = tokenizer.encode(\"summarize: \" + text, return_tensors=\"pt\", max_length=1028, truncation=True)\n",
    "\n",
    "# Generate summary\n",
    "summary_ids = model.generate(input_ids, max_length=150, min_length=50, length_penalty=2.0, num_beams=4, early_stopping=True)\n",
    "summary = tokenizer.decode(summary_ids[0], skip_special_tokens=True)\n",
    "\n",
    "print(\"Bản tóm tắt:\", summary)\n"
   ]
  },
  {
   "cell_type": "code",
   "execution_count": null,
   "id": "e4f55a88",
   "metadata": {},
   "outputs": [],
   "source": []
  },
  {
   "cell_type": "code",
   "execution_count": null,
   "id": "4453439a",
   "metadata": {},
   "outputs": [],
   "source": []
  }
 ],
 "metadata": {
  "kernelspec": {
   "display_name": ".venv",
   "language": "python",
   "name": "python3"
  },
  "language_info": {
   "codemirror_mode": {
    "name": "ipython",
    "version": 3
   },
   "file_extension": ".py",
   "mimetype": "text/x-python",
   "name": "python",
   "nbconvert_exporter": "python",
   "pygments_lexer": "ipython3",
   "version": "3.12.1"
  }
 },
 "nbformat": 4,
 "nbformat_minor": 5
}
