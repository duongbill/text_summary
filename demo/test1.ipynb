{
 "cells": [
  {
   "cell_type": "code",
   "execution_count": 1,
   "metadata": {},
   "outputs": [
    {
     "name": "stdout",
     "output_type": "stream",
     "text": [
      "Bản tóm tắt:  Nguyễn Văn Sơn, 2 năm hơn 10 sáng kiến Nguyễn Văn Sơn và máy cuốn bông được cải tiến từ máy rẽ gót Ở Công ty May Trường Lợi, KCN Bình Chiểu - TPHCM các đồng nghiệp thường gọi Nguyễn Văn Sơn là “cây sáng kiến”. Trong thời gian làm việc trên 2 năm, anh đã có hơn 10 sáng kiến cải tiến kỹ thuật giúp tăng năng suất lao động và cải thiện môi trường làm việc của công nhân (CN).  Ông Trần Đăng Thanh, Chủ tịch Công đoàn Công ty Trường Lợi, nói: “Chúng tôi tự hào và tin tưởng vào sự trưởng thành của đội ngũ CN trẻ, họ đã phấn đấu và nỗ lực hết mình trong công việc. Nguyễn Văn Sơn, đội trưởng đội bảo trì máy, là một trong số những CN đó”.   10 năm theo nghề thợ máy   Chúng tôi gặp Sơn lúc anh vừa sửa chữa xong một máy may bị hỏng, Sơn trông già dặn hơn so với cái tuổi 29 của anh, khuôn mặt đen sạm, chân tay dính đầy dầu mỡ.   Năm 1995, sau khi thực hiện xong nghĩa vụ quân sự, Sơn rời vùng quê Hải Hậu, Nam Định để vào miền Nam tìm việc làm. Sau 6 tháng học nghề may ở Trung tâm Dạy nghề Thủ Đức, anh xin vào làm tại một công ty ở Bình Dương với công việc sửa chữa máy may. Cuối năm 2002, Sơn rời Bình Dương lên TPHCM và xin vào làm thợ bảo trì máy tại Công ty Trường Lợi. Ngay từ khi mới vào công ty, với sự năng nổ, nhiệt tình trong công việc, Sơn được anh em tín nhiệm bầu làm tổ trưởng tổ bảo trì máy và làm tại công ty từ đó đến nay. Trong 10 năm gắn bó với nghề thợ máy, dù làm ở những môi trường khác nhau, gặp không ít những trở ngại trong công việc nhưng Sơn luôn được các đồng nghiệp đánh giá cao về tinh thần trách nhiệm. Sơn nói: “Nhiều lúc thấy các anh chị CN làm việc ở một số khâu phải thực hiện thủ công vừa mệt nhọc lại không hiệu quả nên mình phải tìm tòi, suy nghĩ để cải tiến một số công đoạn nhằm phục vụ sản xuất và giúp cải thiện môi trường làm việc”.   “Cây sáng kiến” của công ty   Cuối năm 2004, Công ty Trường Lợi nhận được một số đơn đặt hàng giày nữ trong đó yêu cầu phải gắn bông trang trí lên mặt giày. Các đơn đặt hàng này đứng trước nguy cơ bị chậm tiến độ vì ở khâu gắn bông trang trí CN làm thủ công nên trung bình mỗi CN chỉ làm được 5-6 bông/giờ, tiến độ công việc chậm, chất lượng bông lại không bảo đảm. Ngay vào thời điểm khó khăn này, Nguyễn Văn Sơn có sáng kiến tận dụng những máy rẽ gót để cải tiến thành máy cuốn bông, anh đề xuất ý kiến lên giám đốc và được chấp nhận. Khi đưa máy cuốn bông vào sử dụng, hiệu quả thấy rõ, mỗi máy cuốn bông với 2 CN điều khiển đã cho năng suất 220 bông/giờ. Nhờ thế công ty bảo đảm tiến độ giao hàng. Từ khi Sơn vào làm tại công ty, anh đã có trên 10 sáng kiến giúp tăng năng suất lao động. Một trong những sáng kiến của Sơn được đánh giá cao là việc chế tạo mặt băng cản máy dập đế giày. Chị Hoàng Thị Sao Mai, CN phân xưởng may, cho biết trước đây khi máy chưa có mặt băng cản, các CN thường bị dập, tróc tay do sơ ý để tay cuốn vào máy. Từ khi máy có mặt băng cản thì hoàn toàn không có tai nạn lao động xảy ra, CN yên tâm làm việc.   Theo ông Trần Đăng Thanh, những sáng kiến của CN Nguyễn Văn Sơn khó có thể quy ra giá trị vật chất nhưng để động viên tinh thần làm việc, hằng năm công ty đều có 2 lần (1 triệu đồng/lần) khen thưởng cho các sáng kiến của anh.   Luôn phấn đấu, học hỏi   Sơn nói càng lăn lộn với nghề, anh càng cảm thấy bản thân còn nhiều khiếm khuyết cần phải phấn đấu. Trong bối cảnh ngành dệt may phải cạnh tranh hết sức khốc liệt để tồn tại thì vấn đề tăng năng suất lao động, nâng cao tay nghề nhưng vẫn bảo đảm sức khỏe cho CN là điều Sơn luôn trăn trở. Anh luôn tìm tòi, nghiên cứu sách vở để tìm ra những phương pháp sử dụng máy có hiệu quả nhất. Là đội trưởng đội bảo trì máy với 6 người nhưng phải bảo trì, sửa chữa hơn 15 loại máy may trong số 800 máy ở phân xưởng may nên Sơn cùng anh em trong đội phải chạy đôn chạy đáo mới làm hết việc. Anh luôn tập luyện để may thành thạo các loại máy trong công ty, khi đưa ra một loại máy cải tiến thì chính anh là người may mẫu đầu tiên và hướng dẫn cho các CN khác cho đến khi thành thạo. Nhìn lại quá trình phấn đấu của bản thân, Sơn cho rằng với một người thợ máy như anh để có được tay nghề vững vàng, ngoài sự hỗ trợ của công ty và các đồng nghiệp, trước hết phải có lòng yêu nghề và sự nỗ lực phấn đấu của chính bản thân.      Côn đồ khoác áo học trò  Nhiều người dân gần khu vực trường THPT Phan Đình Phùng (Phố Cửa Bắc, HN) chứng kiến cảnh 4 thanh thiếu niên ở độ tuổi học sinh quây đánh một nữ sinh gục ngã xuống vỉa hè. Nạn nhân là Thanh Hoài, học sinh lớp 12. Chuyện xảy ra ngày 5/3.  Bà nội Hoài cho biết, hai ngày sau đó, Hoài luôn ở trong trạng thái hoảng loạn không thể nói chuyện được. Đầu và mặt Hoài bị đánh bằng ống nước nên sưng đau, choáng váng, không ăn được gì và cũng không thể nói được nhiều.   Theo lời kể của Hoài và những người chứng kiến, bọn côn đồ không chỉ đấm đá vào mặt, bụng mà còn đá vào háng và vùng phía dưới, khiến việc vệ sinh hàng ngày rất khó khăn.   Nguyên nhân của sự việc bắt nguồn từ tính sĩ diện hão của một số kẻ 8X thích chơi trội, thích làm đại ca trong thiên hạ. Theo lời kể của những người chứng kiến, ngày 4/3, Hoài và Kiên gặp nhau ở trường và có vài lời qua lại.   Ngay ngày hôm sau, Kiên đã gọi bạn đến đánh Hoài ngay tại cổng trường với lý do \"đòi lại danh dự vì hôm qua bị xúc phạm\". Điều đáng nói thêm là, hành vi ấy lại diễn ra trước sự chứng kiến của khá nhiều người, trong đó có cả bạn cùng lớp của Hoài.   Không có hành động can ngăn, giúp đỡ. Chỉ có vài tiếng bất bình nho nhỏ đủ mình nghe, Hoài oằn mình chịu trận đòn khủng khiếp ngay trước cổng trường.  Câu chuyện của Hoài chỉ là một trong nhiều vụ bạo lực học đường diễn ra ở các trường THPT, thậm chí các trường THCS.   Chị Thanh, bán hàng ăn trước cổng trường THPT Chu Văn An cho biết: \"Chị bán ở đây đã 20 năm trời, thấy bọn nó \"xử\" nhau suốt ngày ấy mà. Quan tâm cũng không xuể. Chị chỉ để ý xem bọn nó có phá hàng của mình không, đã trả tiền chưa, chứ không thể nhớ nổi là đánh nhau như thế nào, vì chuyện gì được!\".   Vũ khí trong những vụ \"xử\" nhau này là bàn ghế, guốc cao gót, gậy, côn, tuýp nước, thậm chí dao... Đa số đối tượng tham gia đều ở độ tuổi 15-16.   Mạnh, thành viên của một băng chuyên \"gây náo nhiệt\" ở trường Trương Định đã \"giải nghệ\", cho biết: \"Trường nào cũng có một vài nhân vật cộm cán được gọi là \"người cầm trịch\", và ai muốn yên thân thì hãy nhớ mặt, nhớ tên những \"người cầm trịch\" ấy mà tránh cho xa\".   Dĩ nhiên, những kẻ thân thiết với những đàn anh, đàn chị như thế thì \"được nhờ trăm sự\". Có đứa nào dám sờ đến mình là lại gọi hội đến \"xử\". Có thấy ngứa mắt đứa nào là gọi người đến dằn mặt cảnh cáo.   Với cả một hệ thống có trên có dưới, \"xã hội đen nhí\" hoạt động như luật rừng. Chỉ một cú điện thoại, ngay lập tức cả hội sẽ có mặt để yểm trợ chiến hữu. Không cần biết lý do gì, ở đâu cũng không quan trọng, chỉ cần được chỉ điểm là đánh luôn.   Kiểu hẹn nhau ra địa điểm riêng \"nói chuyện\" xem ra ngày càng mất thì giờ. Những cuộc \"nói chuyện\" được thực hiện ngay trước cổng trường hoặc trong trường theo kiểu phủ đầu, thách thức cả Ban giám hiệu trường học.  Cá biệt có trường hợp hai hội \"xử\" nhau ở cổng trường cho đến khi có người phải vào cấp cứu mà vẫn chưa tha, ngày hôm sau lại kéo nhau vào bệnh viện gây sự tiếp.  Bác sĩ Phạm Quỳnh Trang, khoa Ngoại bệnh viện Saint Paul cho biết: \"Đã có nhiều trường hợp học sinh cấp III phải nhập viện vì là nạn nhân của bạo lực học đường. Mức độ nghiêm trọng của các vết thương là rất khác nhau và cũng không ít trường hợp, chúng tôi phải phẫu thuật ngay lập tức, nếu không sẽ đe doạ đến tính mạng\".  \"Số nạn nhân không hề giảm so với vài năm trước\", bác sĩ Trang nói thêm.     Đêm 30 Tết, Bắc Bộ có mưa, trời rét  Ngày 20-21/1 (tức 29-30 Tết), Bắc Bộ chịu ảnh hưởng của không khí lạnh tăng cường nên nửa đêm về sáng có mưa nhỏ rải rác. Trời rét, nhiệt độ thấp nhất 11-14 độ C, cao nhất 15-18 độ C. Nam Bộ tiết trời ấm áp, không mưa, nhiệt độ trong khoảng 19 đến 33 độ C.  Trung tâm dự báo khí tượng thuỷ văn cho biết, đợt rét ở Bắc Bộ bắt đầu từ ngày 18/1 và có thể sẽ kéo dài đến ngày 24/1 (tức mùng 3 Tết) thì nhiệt độ nhích lên một chút, song vẫn còn rét. Một số khu vực miền núi như Sapa, Sìn Hồ, sẽ trải qua đợt rét đậm, nhiệt độ thấp nhất trong ngày có thể xuống dưới 8 độ C.   Tại khu vực ven biển Trung Bộ từ Hà Tĩnh đến Bình Định, trong những ngày từ 20 đến 24/1, trời có mưa, nhiệt độ thấp nhất dao động trong khoảng 12-15 độ C, cao nhất là 15-18 độ C.  Tại khu vực Tây Nguyên và Nam Bộ, trong dịp Tết này trời sẽ nắng, đêm không mưa. Nhiệt độ thấp nhất là 19-22 độ C, cao nhất khoảng 29-33 độ C.  Dự báo thời tiết một số thành phố, thị xã:  Số thứ tự  Thành phố/thị xã  Thời tiết đêm 29 và ngày 30 Tết  Thời tiết đêm 30 và ngày mùng 1 Tết  1Sơn La  Đêm không mưa, ngày nắng. Nhiệt độ thấp nhất 10 độ C, cao nhất 19 độ C.  Không mưa, sáng có sương mù, trưa chiều ngày nắng. Nhiệt độ thấp nhất 9 độ C, cao nhất 20 độ C.  2Việt Trì  Có lúc có mưa nhỏ. Nhiệt độ thấp nhất 11 độ C, cao nhất 17 độ C.  Không mưa. Nhiệt độ thấp nhất 10 độ C, cao nhất 17 độ C.  3Hải Phòng  Không mưa. Nhiệt độ thấp nhất 11 độ C, cao nhất 17 độ C.  Có mưa. Nhiệt độ thấp nhất 10 độ C, cao nhất 17 độ C.  4Hà Nội  Có mưa. Nhiệt độ thấp nhất 11 độ C, cao nhất là 18 độ C.  Không mưa. Nhiệt độ thấp nhất 10 độ C, cao nhất 17 độ C.  5Vinh  Không mưa. Nhiệt độ thấp nhất 13 độ C, cao nhất 19 độ C.  Có mưa. Nhiệt độ thấp nhất 13 độ C, cao nhất 17 độ C.  6Đà Nẵng  Có lúc có mưa nhỏ. Nhiệt độ thấp nhất 19 độ C, cao nhất 25 độ C.  Có mưa. Nhiệt độ thấp nhất 18 độ C, cao nhất 23 độ C.  7Nha Trang  Không mưa. Nhiệt độ thấp nhất 20 độ C, cao nhất 27 độ C.  Có mưa. Nhiệt độ thấp nhất 20 độ C, cao nhất 26 độ C.  8Pleiku  Không mưa, sáng có sương mù, trưa chiều hửng nắng. Nhiệt độ thấp nhất 13 độ C, cao nhất 27 độ C.  Không mưa. Nhiệt độ thấp nhất 12 độ C, cao nhất 26 độ C.  9TP HCM  Đêm không mưa, sáng sớm có sương mù nhẹ, ngày nắng. Nhiệt độ thấp nhất 21 độ C, cao nhất 33 độ C.  Không mưa. Sáng có sương mù nhẹ, trưa chiều trời nắng. Nhiệt độ thấp nhất 22 độ C, cao nhất 33 độ C.    \n"
     ]
    }
   ],
   "source": [
    "import pickle\n",
    "from sklearn.feature_extraction.text import TfidfVectorizer\n",
    "from sklearn.cluster import KMeans\n",
    "\n",
    "# Bước 1: Tải dữ liệu từ tệp neg.pkl\n",
    "def load_data(file_path):\n",
    "    with open(file_path, 'rb') as file:\n",
    "        data = pickle.load(file)\n",
    "    return data\n",
    "\n",
    "# Bước 2: Mã hóa câu thành vector bằng TF-IDF\n",
    "def encode_sentences(sentences):\n",
    "    vectorizer = TfidfVectorizer()\n",
    "    sentence_vectors = vectorizer.fit_transform(sentences)\n",
    "    return sentence_vectors\n",
    "\n",
    "# Bước 3: Phân cụm\n",
    "def cluster_sentences(sentence_vectors, num_clusters):\n",
    "    kmeans = KMeans(n_clusters=num_clusters, random_state=0)\n",
    "    kmeans.fit(sentence_vectors)\n",
    "    return kmeans\n",
    "\n",
    "# Bước 4: Xây dựng bản tóm tắt\n",
    "def summarize_text(sentences, kmeans):\n",
    "    clusters = kmeans.labels_\n",
    "    summary = []\n",
    "    for cluster in set(clusters):\n",
    "        indices = [i for i, label in enumerate(clusters) if label == cluster]\n",
    "        representative_idx = indices[0]\n",
    "        summary.append(sentences[representative_idx])\n",
    "    return ' '.join(summary)\n",
    "\n",
    "# Ví dụ sử dụng\n",
    "if __name__ == \"__main__\":\n",
    "    # Đường dẫn đến tệp neg.pkl\n",
    "    file_path = 'neg.pkl'\n",
    "\n",
    "    # Tải dữ liệu\n",
    "    sentences = load_data(file_path)\n",
    "\n",
    "    # Các bước thực hiện\n",
    "    sentence_vectors = encode_sentences(sentences)\n",
    "    num_clusters = 3  # Số lượng cụm (tùy chỉnh theo yêu cầu)\n",
    "    kmeans = cluster_sentences(sentence_vectors, num_clusters)\n",
    "    summary = summarize_text(sentences, kmeans)\n",
    "\n",
    "    print(\"Bản tóm tắt:\", summary)\n"
   ]
  },
  {
   "cell_type": "code",
   "execution_count": null,
   "metadata": {},
   "outputs": [
    {
     "name": "stdout",
     "output_type": "stream",
     "text": [
      "Các câu đã tách: ['Nạn nhân được tìm thấy là máy trưởng tàu SEA BEE   Trưa 7/5, TS Lương Công Nhớ, Hiệu phó ĐH Hàng hải Việt Nam thông báo với VnExpress, người được tìm thấy sau vụ mất liên lạc của tàu SEA BEE tại vùng biển Trung Quốc là máy trưởng Đàm Cao Vân, sinh năm 1960, quê Hải Phòng.', 'Ngoài máy trưởng Vân, từ ngày 3/5 đến nay tàu cứu nạn DONGHAIJIU 169 của Trung tâm Cứu nạn Biển Đông Thượng Hải (Trung Quốc) vẫn chưa tìm thêm được nạn nhân nào, cũng chưa xác định tọa độ tàu gặp nạn.', 'Ông Nhớ cho biết, chưa xác định được nguyên nhân tàu mất liên lạc.', 'Theo thông báo của phía bạn, thời tiết lúc tàu phát tín hiệu cấp cứu rất bình thường, gió cấp 3-4.', 'Trong 23 thuyền viên gặp nạn, có 14 người quê Hải Phòng, còn lại quê Bắc Ninh, Nghệ An, Thanh Hoá, Hưng Yên, Hà Nội và 2 người chưa xác định quê quán.', 'Cao tuổi nhất là thuyền viên Nguyễn Văn Bình, sinh năm 1955, quê Hải Phòng.', 'Nhỏ tuổi nhất là Nguyễn Đình Dương, sinh năm 1985, quê Từ Liêm, Hà Nội.', 'Ông Nhớ cho hay, đến nay chưa thể nói SEA BEE mất tích vì chưa xác định được tọa độ.', 'Điều này cũng được ông Hoàng Phú Dương, Giám đốc Bảo Việt Hải Phòng xác nhận, bởi chưa cơ quan nào tuyên bố mất tích, cũng chưa có xác nhận của nơi tàu đi và đến.', 'SEA BEE xuất cảng Qinghuang Dao (Trung Quốc) ngày 1/5, theo lịch trình sẽ đến Manila (Philippines) ngày 6/5.', 'Nhưng rời cảng được 1 ngày thì tàu mất liên lạc với chủ tàu là Công ty Vận tải biển Đông Long.', 'Ông Dương cho hay, SEA BEE được Bảo Việt Hải Phòng bảo hiểm với mức 2 triệu USD.', 'Con tàu trọng tải 6.273 DWT này được đóng tại Nhật Bản năm 1980 và năm 2003, Công ty Đông Long đã mua lại.', 'Hiện Đông Long cho Công ty Cryxtal Shipping của Hàn Quốc thuê định kỳ.', 'Chiếc tàu được đăng kiểm tại Việt Nam và hiện vẫn còn hạn đăng kiểm.', 'Với trách nhiệm là cơ quan bảo hiểm cho cả tàu và toàn bộ 23 thuyền viên, ông Dương cho hay Bảo Việt đã thông báo cho Hội miền Tây nước Anh (một hội tái bảo hiểm mà Bảo Việt tham gia) để hội này thông báo cho các đại lý phối hợp với cơ quan chức năng tham gia tìm kiếm tàu cũng như thuyền viên gặp nạn.', 'Về việc chi trả bảo hiểm, ông Dương khẳng định, khi xác định được tàu và các thuyền viên mất tích hoàn toàn thì Bảo Việt Hải Phòng sẽ trả một lần cho gia đình nạn nhân với mức bảo hiểm trách nhiệm cao nhất - 25.000 USD/người.', 'Trong vòng 2 năm qua, ĐH Hàng hải đã mất đi nhiều thuyền viên.', 'Ngày 20/1, tàu Tiên Phong của Hàn Quốc bị đắm trên vùng biển phía đông CHDCND Triều Tiên, làm thiệt mạng 6 thủy thủ Việt Nam.', 'Trước đó, tháng 2/2004, chiếc tàu Duri cũng bị đắm khiến 18 thủy thủ của Việt Nam bị chết và mất tích.']\n",
      "Bản tóm tắt: Nạn nhân được tìm thấy là máy trưởng tàu SEA BEE   Trưa 7/5, TS Lương Công Nhớ, Hiệu phó ĐH Hàng hải Việt Nam thông báo với VnExpress, người được tìm thấy sau vụ mất liên lạc của tàu SEA BEE tại vùng biển Trung Quốc là máy trưởng Đàm Cao Vân, sinh năm 1960, quê Hải Phòng. Cao tuổi nhất là thuyền viên Nguyễn Văn Bình, sinh năm 1955, quê Hải Phòng. Ngoài máy trưởng Vân, từ ngày 3/5 đến nay tàu cứu nạn DONGHAIJIU 169 của Trung tâm Cứu nạn Biển Đông Thượng Hải (Trung Quốc) vẫn chưa tìm thêm được nạn nhân nào, cũng chưa xác định tọa độ tàu gặp nạn.\n"
     ]
    }
   ],
   "source": [
    "import pickle\n",
    "import nltk\n",
    "from sklearn.feature_extraction.text import TfidfVectorizer\n",
    "from sklearn.cluster import KMeans\n",
    "\n",
    "# Tải punkt tokenizer nếu chưa có\n",
    "try:\n",
    "    nltk.data.find('tokenizers/punkt')\n",
    "except LookupError:\n",
    "    nltk.download('punkt')\n",
    "\n",
    "# Bước 1: Tải dữ liệu từ tệp\n",
    "def load_data(file_path):\n",
    "    with open(file_path, 'rb') as file:\n",
    "        data = pickle.load(file)\n",
    "    return data\n",
    "\n",
    "# Bước 2: Tách câu bằng nltk\n",
    "def tokenize_sentences(contents_parsed, index=3):\n",
    "    # Lấy nội dung tại vị trí index\n",
    "    return nltk.sent_tokenize(contents_parsed[index])\n",
    "\n",
    "# Bước 3: Mã hóa câu thành vector bằng TF-IDF\n",
    "def encode_sentences(sentences):\n",
    "    vectorizer = TfidfVectorizer()\n",
    "    sentence_vectors = vectorizer.fit_transform(sentences)\n",
    "    return sentence_vectors\n",
    "\n",
    "# Bước 4: Phân cụm\n",
    "def cluster_sentences(sentence_vectors, num_clusters):\n",
    "    kmeans = KMeans(n_clusters=num_clusters, random_state=0)\n",
    "    kmeans.fit(sentence_vectors)\n",
    "    return kmeans\n",
    "\n",
    "# Bước 5: Xây dựng bản tóm tắt\n",
    "def summarize_text(sentences, kmeans):\n",
    "    clusters = kmeans.labels_\n",
    "    summary = []\n",
    "    for cluster in set(clusters):\n",
    "        indices = [i for i, label in enumerate(clusters) if label == cluster]\n",
    "        representative_idx = indices[0]\n",
    "        summary.append(sentences[representative_idx])\n",
    "    return ' '.join(summary)\n",
    "\n",
    "# Ví dụ sử dụng\n",
    "if __name__ == \"__main__\":\n",
    "    # Đường dẫn đến tệp neg.pkl\n",
    "    file_path = './data/data.pkl'\n",
    "\n",
    "    # Tải dữ liệu\n",
    "    contents_parsed = load_data(file_path)\n",
    "\n",
    "    # Tách câu từ nội dung tại vị trí thứ 3\n",
    "    sentences = tokenize_sentences(contents_parsed, index=3)\n",
    "    print(\"Các câu đã tách:\", sentences)\n",
    "\n",
    "    # Mã hóa câu và thực hiện phân cụm\n",
    "    sentence_vectors = encode_sentences(sentences)\n",
    "    num_clusters = 3  # Số lượng cụm (tùy chỉnh theo yêu cầu)\n",
    "    kmeans = cluster_sentences(sentence_vectors, num_clusters)\n",
    "\n",
    "    # Tạo bản tóm tắt\n",
    "    summary = summarize_text(sentences, kmeans)\n",
    "    print(\"Bản tóm tắt:\", summary)\n"
   ]
  },
  {
   "cell_type": "code",
   "execution_count": null,
   "metadata": {},
   "outputs": [],
   "source": []
  }
 ],
 "metadata": {
  "kernelspec": {
   "display_name": "Python 3",
   "language": "python",
   "name": "python3"
  },
  "language_info": {
   "codemirror_mode": {
    "name": "ipython",
    "version": 3
   },
   "file_extension": ".py",
   "mimetype": "text/x-python",
   "name": "python",
   "nbconvert_exporter": "python",
   "pygments_lexer": "ipython3",
   "version": "3.12.1"
  }
 },
 "nbformat": 4,
 "nbformat_minor": 2
}
