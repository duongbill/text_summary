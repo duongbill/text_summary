{
 "cells": [
  {
   "cell_type": "code",
   "execution_count": 2,
   "id": "2d75a3ac",
   "metadata": {},
   "outputs": [
    {
     "name": "stderr",
     "output_type": "stream",
     "text": [
      "You are using the default legacy behaviour of the <class 'transformers.models.t5.tokenization_t5.T5Tokenizer'>. This is expected, and simply means that the `legacy` (previous) behavior will be used so nothing changes for you. If you want to use the new behaviour, set `legacy=False`. This should only be set if you understand what it means, and thoroughly read the reason why this was added as explained in https://github.com/huggingface/transformers/pull/24565\n"
     ]
    },
    {
     "name": "stdout",
     "output_type": "stream",
     "text": [
      "Bản tóm tắt: Kỳ họp thứ 6 , Quốc hội khoá XIV khai mạc sáng 4/4 với nhiều nội dung quan trọng như sắp xếp bộ máy , tinh gọn bộ máy , kỷ luật , kỷ cương hành chính , nâng cao hiệu quả công tác cán bộ .\n"
     ]
    }
   ],
   "source": [
    "from transformers import T5Tokenizer, T5ForConditionalGeneration\n",
    "\n",
    "\n",
    "model_name = \"VietAI/vit5-base-vietnews-summarization\"\n",
    "tokenizer = T5Tokenizer.from_pretrained(model_name)\n",
    "model = T5ForConditionalGeneration.from_pretrained(model_name)\n",
    "\n",
    "# Input text\n",
    "text = \"\"\"Nhân dân, cử tri đang mong đợi kỳ họp này vì mong muốn bộ máy được tinh gọn, hiệu năng, hiệu lực, hiệu quả.\n",
    "\n",
    "Chủ tịch Quốc hội đã bày tỏ sự quan ngại về vấn đề bố trí nơi làm việc cho các đơn vị mới sau sắp xếp. Tình trạng nhiều trụ sở công bị bỏ hoang, lãng phí đã được báo chí phản ánh, gây bức xúc trong dư luận.\n",
    "\n",
    "Với trụ sở cũ, Tổng Bí thư chỉ đạo phải sử dụng cho giáo dục, y tế và không gian công cộng để người già, trẻ em chơi thể thao, sinh hoạt cộng đồng.\n",
    "\n",
    "“Có những tỉnh xây dựng trụ sở rất đàng hoàng, bài bản nhưng về tỉnh mới, chỗ đó làm gì?”, Chủ tịch Quốc hội trăn trở.\n",
    "\n",
    "Trong 3 tháng qua, Bộ Chính trị, Ban Bí thư chỉ đạo quyết liệt việc giải quyết tình trạng lãng phí. Thủ tướng đã báo cáo Quốc hội việc tháo gỡ vướng mắc cho trên 2.200 dự án với tổng vốn gần 5,9 triệu tỷ đồng (tương đương khoảng 235 tỷ USD).\n",
    "\n",
    "Về sửa Hiến pháp năm 2013, Chủ tịch Quốc hội cho biết dự kiến sửa khoảng 8/120 điều liên quan tới sắp xếp, tổ chức bộ máy. Ông nhấn mạnh tinh thần phân cấp mạnh cho địa phương theo hướng “địa phương quyết, địa phương làm, địa phương chịu trách nhiệm”.\n",
    "\n",
    "Tuy vậy, Chủ tịch Quốc hội cho rằng để địa phương quyết và làm thì phải có nguồn lực. “Bây giờ giao dự án, tiền cho địa phương thì địa phương phải chịu trách nhiệm quyết và làm. Chứ giao tiền, giao dự án nhưng phải báo cáo lên Trung ương thì rất mất công”, ông Mẫn phân tích.\n",
    "\n",
    "Quốc hội không quản lý dự án, danh mục tiền mà chỉ quản lý thu - chi chung, còn lại giao Chính phủ, địa phương điều hành.\n",
    "\n",
    "Chủ tịch Quốc hội nhấn mạnh cần quán triệt phân cấp về cho địa phương, giảm bớt thủ tục để thúc đẩy thực thi chính sách.\n",
    "\n",
    "Theo Chủ tịch Quốc hội, khi sắp xếp, tinh gọn bộ máy sẽ có nguồn lực để phát triển đất nước. Bộ Chính trị đã có chủ trương miễn học phí cho các cấp học từ mầm non, mẫu giáo, phổ thông với khoảng 30.000 tỷ đồng. Trong y tế, Tổng Bí thư cũng nêu định hướng tiến tới miễn viện phí cho toàn dân và mỗi năm người dân được khám sức khỏe 1 lần.\n",
    "\n",
    "Vì vậy cần nguồn tiền để thực hiện các nhiệm vụ này. Ông dẫn chứng một số nước thu nhập thấp hơn, quy mô kinh tế nhỏ hơn Việt Nam nhưng vẫn miễn học phí cho học sinh, miễn viện phí cho người dân.\n",
    "\n",
    "Chủ tịch Quốc hội cho biết từ Trung ương đến địa phương đang mong chờ việc sửa đổi Hiến pháp để kết thúc cấp huyện, sắp xếp, sáp nhập tỉnh, xã.\n",
    "\n",
    "\"Sắp xếp, sáp nhập thì dễ nhưng chọn cán bộ mới là khó. Bố trí ai là bí thư, phó bí thư, chủ tịch UBND, HĐND cấp xã? Không phải cán bộ cấp xã nào hiện nay cũng làm được\", Chủ tịch Quốc hội phân tích. \n",
    "\n",
    "Ông dẫn chứng với sở NN&PTNT và TN&MT khi 3 tỉnh sáp nhập thì tổng cộng là 6 sở với 6 giám đốc sẽ chỉ còn 1; phó giám đốc sở có thể giữ nguyên trạng nhưng cấp dưới nữa phải tăng cường cho xã làm công tác chuyên môn.\n",
    "\n",
    "Chủ tịch Quốc hội chia sẻ, vì tính chất phức tạp của việc sắp xếp, bố trí cán bộ sau sáp nhập nên tuần nào Bộ Chính trị cũng phải họp với các địa phương.\"\"\"\n",
    "\n",
    "# Encode input text\n",
    "input_ids = tokenizer.encode(\"summarize: \" + text, return_tensors=\"pt\", max_length=1028, truncation=True)\n",
    "\n",
    "# Generate summary\n",
    "summary_ids = model.generate(input_ids, max_length=60, min_length=50, length_penalty=2.0, num_beams=4, early_stopping=True)\n",
    "summary = tokenizer.decode(summary_ids[0], skip_special_tokens=True)\n",
    "\n",
    "print(\"Bản tóm tắt:\", summary)\n"
   ]
  },
  {
   "cell_type": "code",
   "execution_count": 1,
   "id": "c9cb3d36",
   "metadata": {},
   "outputs": [
    {
     "name": "stdout",
     "output_type": "stream",
     "text": [
      "Bản tóm tắt: Trao đổi với báo chí bên hành lang Quốc hội sáng 143 , Chủ tịch Quốc hội Nguyễn Thị Kim Ngân cho rằng cần phải có sự vào cuộc của địa phương để tập trung vào xây dựng bộ máy của bộ máy hành chính sự nghiệp .\n"
     ]
    }
   ],
   "source": [
    "from transformers import T5Tokenizer, T5ForConditionalGeneration\n",
    "\n",
    "# Load mô hình và tokenizer đã huấn luyện của bạn\n",
    "model = T5ForConditionalGeneration.from_pretrained(\"./vit5-summary-model\")\n",
    "tokenizer = T5Tokenizer.from_pretrained(\"./vit5-summary-model\")\n",
    "\n",
    "# Input text\n",
    "text = \"\"\"Nhân dân, cử tri đang mong đợi kỳ họp này vì mong muốn bộ máy được tinh gọn, hiệu năng, hiệu lực, hiệu quả.\n",
    "\n",
    "Chủ tịch Quốc hội đã bày tỏ sự quan ngại về vấn đề bố trí nơi làm việc cho các đơn vị mới sau sắp xếp. Tình trạng nhiều trụ sở công bị bỏ hoang, lãng phí đã được báo chí phản ánh, gây bức xúc trong dư luận.\n",
    "\n",
    "Với trụ sở cũ, Tổng Bí thư chỉ đạo phải sử dụng cho giáo dục, y tế và không gian công cộng để người già, trẻ em chơi thể thao, sinh hoạt cộng đồng.\n",
    "\n",
    "“Có những tỉnh xây dựng trụ sở rất đàng hoàng, bài bản nhưng về tỉnh mới, chỗ đó làm gì?”, Chủ tịch Quốc hội trăn trở.\n",
    "\n",
    "Trong 3 tháng qua, Bộ Chính trị, Ban Bí thư chỉ đạo quyết liệt việc giải quyết tình trạng lãng phí. Thủ tướng đã báo cáo Quốc hội việc tháo gỡ vướng mắc cho trên 2.200 dự án với tổng vốn gần 5,9 triệu tỷ đồng (tương đương khoảng 235 tỷ USD).\n",
    "\n",
    "Về sửa Hiến pháp năm 2013, Chủ tịch Quốc hội cho biết dự kiến sửa khoảng 8/120 điều liên quan tới sắp xếp, tổ chức bộ máy. Ông nhấn mạnh tinh thần phân cấp mạnh cho địa phương theo hướng “địa phương quyết, địa phương làm, địa phương chịu trách nhiệm”.\n",
    "\n",
    "Tuy vậy, Chủ tịch Quốc hội cho rằng để địa phương quyết và làm thì phải có nguồn lực. “Bây giờ giao dự án, tiền cho địa phương thì địa phương phải chịu trách nhiệm quyết và làm. Chứ giao tiền, giao dự án nhưng phải báo cáo lên Trung ương thì rất mất công”, ông Mẫn phân tích.\n",
    "\n",
    "Quốc hội không quản lý dự án, danh mục tiền mà chỉ quản lý thu - chi chung, còn lại giao Chính phủ, địa phương điều hành.\n",
    "\n",
    "Chủ tịch Quốc hội nhấn mạnh cần quán triệt phân cấp về cho địa phương, giảm bớt thủ tục để thúc đẩy thực thi chính sách.\n",
    "\n",
    "Theo Chủ tịch Quốc hội, khi sắp xếp, tinh gọn bộ máy sẽ có nguồn lực để phát triển đất nước. Bộ Chính trị đã có chủ trương miễn học phí cho các cấp học từ mầm non, mẫu giáo, phổ thông với khoảng 30.000 tỷ đồng. Trong y tế, Tổng Bí thư cũng nêu định hướng tiến tới miễn viện phí cho toàn dân và mỗi năm người dân được khám sức khỏe 1 lần.\n",
    "\n",
    "Vì vậy cần nguồn tiền để thực hiện các nhiệm vụ này. Ông dẫn chứng một số nước thu nhập thấp hơn, quy mô kinh tế nhỏ hơn Việt Nam nhưng vẫn miễn học phí cho học sinh, miễn viện phí cho người dân.\n",
    "\n",
    "Chủ tịch Quốc hội cho biết từ Trung ương đến địa phương đang mong chờ việc sửa đổi Hiến pháp để kết thúc cấp huyện, sắp xếp, sáp nhập tỉnh, xã.\n",
    "\n",
    "\"Sắp xếp, sáp nhập thì dễ nhưng chọn cán bộ mới là khó. Bố trí ai là bí thư, phó bí thư, chủ tịch UBND, HĐND cấp xã? Không phải cán bộ cấp xã nào hiện nay cũng làm được\", Chủ tịch Quốc hội phân tích. \n",
    "\n",
    "Ông dẫn chứng với sở NN&PTNT và TN&MT khi 3 tỉnh sáp nhập thì tổng cộng là 6 sở với 6 giám đốc sẽ chỉ còn 1; phó giám đốc sở có thể giữ nguyên trạng nhưng cấp dưới nữa phải tăng cường cho xã làm công tác chuyên môn.\n",
    "\n",
    "Chủ tịch Quốc hội chia sẻ, vì tính chất phức tạp của việc sắp xếp, bố trí cán bộ sau sáp nhập nên tuần nào Bộ Chính trị cũng phải họp với các địa phương.\"\"\"\n",
    "\n",
    "# Encode input text\n",
    "input_ids = tokenizer.encode(\"summarize: \" + text, return_tensors=\"pt\", max_length=1028, truncation=True)\n",
    "\n",
    "# Generate summary\n",
    "summary_ids = model.generate(input_ids, max_length=150, min_length=50, length_penalty=2.0, num_beams=4, early_stopping=True)\n",
    "summary = tokenizer.decode(summary_ids[0], skip_special_tokens=True)\n",
    "\n",
    "print(\"Bản tóm tắt:\", summary)\n"
   ]
  },
  {
   "cell_type": "code",
   "execution_count": null,
   "id": "e4f55a88",
   "metadata": {},
   "outputs": [],
   "source": []
  },
  {
   "cell_type": "code",
   "execution_count": null,
   "id": "4453439a",
   "metadata": {},
   "outputs": [],
   "source": []
  }
 ],
 "metadata": {
  "kernelspec": {
   "display_name": ".venv",
   "language": "python",
   "name": "python3"
  },
  "language_info": {
   "codemirror_mode": {
    "name": "ipython",
    "version": 3
   },
   "file_extension": ".py",
   "mimetype": "text/x-python",
   "name": "python",
   "nbconvert_exporter": "python",
   "pygments_lexer": "ipython3",
   "version": "3.12.1"
  }
 },
 "nbformat": 4,
 "nbformat_minor": 5
}
