{
 "cells": [
  {
   "cell_type": "markdown",
   "id": "d15d8294-3328-4e07-ad16-8a03e9bbfdb9",
   "metadata": {},
   "source": [
    "# Text Summary Project\n",
    "\n",
    "Summarize a webpage to use an Open Source model running locally via Ollama rather than OpenAI\n",
    "\n",
    "\n",
    "**Lợi ích:**\n",
    "1. Không mất phí API – mã nguồn mở\n",
    "2. Dữ liệu không rời khỏi thiết bị của bạn\n",
    "\n",
    "**Hạn chế:**\n",
    "1. Sức mạnh xử lý kém hơn đáng kể so với Frontier Model\n",
    "\n",
    "## Hướng dẫn cài đặt Ollama\n",
    "\n",
    "Chỉ cần truy cập  [ollama.com](https://ollama.com) và cài đặt!\n",
    "\n",
    "Sau khi hoàn tất, máy chủ Ollama sẽ tự động chạy cục bộ.\n",
    "Bạn có thể kiểm tra bằng cách truy cập:\n",
    "http://localhost:11434/\n",
    "\n",
    "Nếu thấy thông báo \"Ollama is running\", nghĩa là mọi thứ đã hoạt động bình thường.\n",
    "\n",
    "Nếu không, hãy mở Terminal (Mac) hoặc Powershell (Windows) và nhập lệnh:\n",
    "\n",
    "ollama serve\n",
    "\n",
    "Sau đó thử truy cập lại http://localhost:11434/."
   ]
  },
  {
   "cell_type": "code",
   "execution_count": 27,
   "id": "4e2a9393-7767-488e-a8bf-27c12dca35bd",
   "metadata": {},
   "outputs": [],
   "source": [
    "# imports\n",
    "\n",
    "from selenium import webdriver\n",
    "from selenium.webdriver.chrome.service import Service\n",
    "from webdriver_manager.chrome import ChromeDriverManager\n",
    "from selenium.webdriver.common.by import By\n",
    "from bs4 import BeautifulSoup\n",
    "# thư viện để lấy dữ liệu từ trang "
   ]
  },
  {
   "cell_type": "code",
   "execution_count": null,
   "id": "75033d81",
   "metadata": {},
   "outputs": [],
   "source": []
  },
  {
   "cell_type": "code",
   "execution_count": 28,
   "id": "29ddd15d-a3c5-4f4e-a678-873f56162724",
   "metadata": {},
   "outputs": [],
   "source": [
    "# Constants\n",
    "\n",
    "MODEL = \"llama3.2\""
   ]
  },
  {
   "cell_type": "code",
   "execution_count": 33,
   "id": "c5e793b2-6775-426a-a139-4848291d0463",
   "metadata": {},
   "outputs": [],
   "source": [
    "# func để lấy nội dung từ trang web\n",
    "class Website:\n",
    "    def __init__(self, url):\n",
    "        self.url = url\n",
    "        \n",
    "        # Khởi tạo trình duyệt\n",
    "        options = webdriver.ChromeOptions()\n",
    "        options.add_argument(\"--headless\")  # Chạy không hiển thị giao diện\n",
    "        driver = webdriver.Chrome(service=Service(ChromeDriverManager().install()), options=options)\n",
    "        \n",
    "        driver.get(url)  # Truy cập trang web\n",
    "        html = driver.page_source  # Lấy HTML sau khi JavaScript chạy\n",
    "        driver.quit()  # Đóng trình duyệt\n",
    "        \n",
    "        soup = BeautifulSoup(html, 'html.parser')\n",
    "        self.title = soup.title.string if soup.title else \"No title found\"\n",
    "        for irrelevant in soup.body([\"script\", \"style\", \"img\", \"input\"]):\n",
    "            irrelevant.decompose()\n",
    "        self.text = soup.body.get_text(separator=\"\\n\", strip=True)"
   ]
  },
  {
   "cell_type": "code",
   "execution_count": 25,
   "id": "2ef960cf-6dc2-4cda-afb3-b38be12f4c97",
   "metadata": {},
   "outputs": [
    {
     "name": "stdout",
     "output_type": "stream",
     "text": [
      "Just a moment...\n",
      "Enable JavaScript and cookies to continue\n"
     ]
    }
   ],
   "source": [
    "web = Website(\"https://anthropic.com\")\n",
    "print(web.title)\n",
    "print(web.text)"
   ]
  },
  {
   "cell_type": "code",
   "execution_count": null,
   "id": "bfa6a401",
   "metadata": {},
   "outputs": [],
   "source": []
  },
  {
   "cell_type": "markdown",
   "id": "6a478a0c-2c53-48ff-869c-4d08199931e1",
   "metadata": {},
   "source": [
    "## Types of prompts\n",
    "\n",
    "Bạn có thể đã biết điều này – nhưng nếu chưa, bạn sẽ sớm trở nên quen thuộc!\n",
    "\n",
    "Các mô hình như GPT-4o được huấn luyện để nhận chỉ dẫn theo một cách cụ thể.\n",
    "\n",
    "Chúng mong đợi:\n",
    "\n",
    "1. System Prompt\n",
    "Lời nhắc hệ thống cung cấp thông tin về nhiệm vụ cần thực hiện và giọng điệu nên sử dụng.\n",
    "\n",
    "2. User Prompt\n",
    "Lời nhắc từ người dùng – đây là nội dung cuộc hội thoại mà mô hình sẽ phản hồi."
   ]
  },
  {
   "cell_type": "code",
   "execution_count": null,
   "id": "abdb8417-c5dc-44bc-9bee-2e059d162699",
   "metadata": {},
   "outputs": [],
   "source": [
    "# Define our system prompt \n",
    "\n",
    "system_prompt = \"You are an assistant that analyzes the contents of a website \\\n",
    "and provides a short summary, ignoring text that might be navigation related. \\\n",
    "Respond in markdown.\""
   ]
  },
  {
   "cell_type": "code",
   "execution_count": null,
   "id": "f0275b1b-7cfe-4f9d-abfa-7650d378da0c",
   "metadata": {},
   "outputs": [],
   "source": [
    "# A function that writes a User Prompt that asks for summaries of websites:\n",
    "\n",
    "def user_prompt_for(website):\n",
    "    user_prompt = f\"You are looking at a website titled {website.title}\"\n",
    "    user_prompt += \"The contents of this website is as follows; \\\n",
    "please provide a short summary of this website in markdown. \\\n",
    "If it includes news or announcements, then summarize these too.\\n\\n\"\n",
    "    user_prompt += website.text\n",
    "    return user_prompt"
   ]
  },
  {
   "cell_type": "markdown",
   "id": "ea211b5f-28e1-4a86-8e52-c0b7677cadcc",
   "metadata": {},
   "source": [
    "## Messages\n",
    "\n",
    "The API from Ollama expects the same message format as OpenAI:\n",
    "\n",
    "```\n",
    "[\n",
    "    {\"role\": \"system\", \"content\": \"system message goes here\"},\n",
    "    {\"role\": \"user\", \"content\": \"user message goes here\"}\n",
    "]"
   ]
  },
  {
   "cell_type": "code",
   "execution_count": null,
   "id": "0134dfa4-8299-48b5-b444-f2a8c3403c88",
   "metadata": {},
   "outputs": [],
   "source": [
    "# See how this function creates exactly the format above\n",
    "\n",
    "def messages_for(website):\n",
    "    return [\n",
    "        {\"role\": \"system\", \"content\": system_prompt},\n",
    "        {\"role\": \"user\", \"content\": user_prompt_for(website)}\n",
    "    ]"
   ]
  },
  {
   "cell_type": "markdown",
   "id": "16f49d46-bf55-4c3e-928f-68fc0bf715b0",
   "metadata": {},
   "source": [
    "## Ollama"
   ]
  },
  {
   "cell_type": "code",
   "execution_count": null,
   "id": "905b9919-aba7-45b5-ae65-81b3d1d78e34",
   "metadata": {},
   "outputs": [],
   "source": [
    "# \n",
    "\n",
    "def summarize(url):\n",
    "    website = Website(url)\n",
    "    messages = messages_for(website)\n",
    "    response = ollama.chat(model=MODEL, messages=messages)\n",
    "    return response['message']['content']"
   ]
  },
  {
   "cell_type": "code",
   "execution_count": null,
   "id": "05e38d41-dfa4-4b20-9c96-c46ea75d9fb5",
   "metadata": {},
   "outputs": [],
   "source": [
    "summarize(\"https://anthropic.com\")"
   ]
  },
  {
   "cell_type": "code",
   "execution_count": null,
   "id": "3d926d59-450e-4609-92ba-2d6f244f1342",
   "metadata": {},
   "outputs": [],
   "source": [
    "# A function to display this nicely in the Jupyter output, using markdown\n",
    "\n",
    "def display_summary(url):\n",
    "    summary = summarize(url)\n",
    "    display(Markdown(summary))"
   ]
  },
  {
   "cell_type": "code",
   "execution_count": null,
   "id": "3018853a-445f-41ff-9560-d925d1774b2f",
   "metadata": {},
   "outputs": [],
   "source": [
    "display_summary(\"https://anthropic.com\")"
   ]
  },
  {
   "cell_type": "markdown",
   "id": "b3bcf6f4-adce-45e9-97ad-d9a5d7a3a624",
   "metadata": {},
   "source": [
    "# Let's try more websites\n",
    "\n",
    "\n",
    "Lưu ý rằng phương pháp này chỉ hoạt động với các trang web có thể được thu thập dữ liệu bằng cách tiếp cận đơn giản này.\n",
    "\n",
    "Các trang web được render bằng JavaScript, như ứng dụng React, sẽ không hiển thị. Bạn có thể thử triển khai bằng Selenium giúp khắc phục vấn đề này. Bạn cần tìm hiểu cách cài đặt Selenium (có thể hỏi ChatGPT!).\n",
    "\n",
    "Các trang web được bảo vệ bằng CloudFront (hoặc tương tự) có thể trả về lỗi 403"
   ]
  },
  {
   "cell_type": "code",
   "execution_count": null,
   "id": "45d83403-a24c-44b5-84ac-961449b4008f",
   "metadata": {},
   "outputs": [],
   "source": [
    "display_summary(\"https://cnn.com\")"
   ]
  },
  {
   "cell_type": "code",
   "execution_count": null,
   "id": "682eff74-55c4-4d4b-b267-703edbc293c7",
   "metadata": {},
   "outputs": [
    {
     "ename": "NameError",
     "evalue": "name 'web' is not defined",
     "output_type": "error",
     "traceback": [
      "\u001b[31m---------------------------------------------------------------------------\u001b[39m",
      "\u001b[31mNameError\u001b[39m                                 Traceback (most recent call last)",
      "\u001b[36mCell\u001b[39m\u001b[36m \u001b[39m\u001b[32mIn[5]\u001b[39m\u001b[32m, line 1\u001b[39m\n\u001b[32m----> \u001b[39m\u001b[32m1\u001b[39m \u001b[38;5;28mprint\u001b[39m(\u001b[43mweb\u001b[49m.title)\n",
      "\u001b[31mNameError\u001b[39m: name 'web' is not defined"
     ]
    }
   ],
   "source": []
  }
 ],
 "metadata": {
  "kernelspec": {
   "display_name": "Python 3",
   "language": "python",
   "name": "python3"
  },
  "language_info": {
   "codemirror_mode": {
    "name": "ipython",
    "version": 3
   },
   "file_extension": ".py",
   "mimetype": "text/x-python",
   "name": "python",
   "nbconvert_exporter": "python",
   "pygments_lexer": "ipython3",
   "version": "3.12.1"
  }
 },
 "nbformat": 4,
 "nbformat_minor": 5
}
