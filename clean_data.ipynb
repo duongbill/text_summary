{
 "cells": [
  {
   "cell_type": "code",
   "execution_count": null,
   "id": "493b94ec",
   "metadata": {},
   "outputs": [
    {
     "name": "stdout",
     "output_type": "stream",
     "text": [
      "Đã lấy 10000 dòng đầu của 'data.csv' và lưu vào file 'data_10000.csv'\n"
     ]
    }
   ],
   "source": [
    "import pandas as pd\n",
    "\n",
    "try:\n",
    "    # Đọc file CSV, chỉ đọc 10000 dòng đầu\n",
    "    df = pd.read_csv('../data/Dataset_articles.csv', nrows=1000)\n",
    "\n",
    "    # Lưu DataFrame chứa 10000 dòng đầu vào một file CSV mới\n",
    "    df.to_csv('data_1000.csv', index=False, encoding='utf-8')\n",
    "\n",
    "    print(\"Đã lấy 10000 dòng đầu của 'data.csv' và lưu vào file 'data_10000.csv'\")\n",
    "\n",
    "except FileNotFoundError:\n",
    "    print(\"Lỗi: Không tìm thấy file 'data.csv'. Vui lòng đảm bảo file tồn tại trong thư mục hiện tại.\")\n",
    "except Exception as e:\n",
    "    print(f\"Đã xảy ra lỗi: {e}\")"
   ]
  },
  {
   "cell_type": "code",
   "execution_count": null,
   "id": "e3c4967e",
   "metadata": {},
   "outputs": [
    {
     "name": "stdout",
     "output_type": "stream",
     "text": [
      "Lỗi: Không tìm thấy file '../data/Dataset_articles.csv'\n",
      "Đã tìm thấy file ở: ./data/Dataset_articles.csv\n"
     ]
    }
   ],
   "source": [
    "    df = pd.read_csv('./data/Dataset_articles.csv') "
   ]
  },
  {
   "cell_type": "code",
   "execution_count": null,
   "id": "84724f8f",
   "metadata": {},
   "outputs": [
    {
     "name": "stdout",
     "output_type": "stream",
     "text": [
      "Đọc dữ liệu thành công! Shape: (313320, 9)\n",
      "Thông tin cơ bản về dữ liệu:\n",
      "<class 'pandas.core.frame.DataFrame'>\n",
      "RangeIndex: 313320 entries, 0 to 313319\n",
      "Data columns (total 9 columns):\n",
      " #   Column      Non-Null Count   Dtype \n",
      "---  ------      --------------   ----- \n",
      " 0   Unnamed: 0  313320 non-null  int64 \n",
      " 1   URL         313320 non-null  object\n",
      " 2   Title       313320 non-null  object\n",
      " 3   Summary     313140 non-null  object\n",
      " 4   Contents    307763 non-null  object\n",
      " 5   Date        313320 non-null  object\n",
      " 6   Author(s)   312499 non-null  object\n",
      " 7   Category    313320 non-null  object\n",
      " 8   Tags        313320 non-null  object\n",
      "dtypes: int64(1), object(8)\n",
      "memory usage: 21.5+ MB\n",
      "None\n",
      "\n",
      "Kiểm tra giá trị null:\n",
      "Unnamed: 0       0\n",
      "URL              0\n",
      "Title            0\n",
      "Summary        180\n",
      "Contents      5557\n",
      "Date             0\n",
      "Author(s)      821\n",
      "Category         0\n",
      "Tags             0\n",
      "dtype: int64\n",
      "\n",
      "Sau khi loại bỏ null: (307598, 9)\n",
      "\n",
      "Sau khi lọc theo độ dài: (305991, 13)\n",
      "\n",
      "Mẫu dữ liệu đã xử lý:\n",
      "                                    Contents_cleaned  \\\n",
      "0  Những ngày vừa qua, trên trang Facebook chính ...   \n",
      "1  Theo thông tin từ Cục Thuế TP.HCM, hiện cơ qua...   \n",
      "\n",
      "                                     Summary_cleaned  \n",
      "0  Lâm Đồng - Lãnh đạo thành phố Bảo Lộc, Lâm Đồn...  \n",
      "1  TPHCM - Việc không thể cưỡng chế thuế của hai ...  \n",
      "Đã lưu dữ liệu đã làm sạch vào './data/clean_data.csv'\n"
     ]
    }
   ],
   "source": [
    "import pandas as pd\n",
    "import re\n",
    "import nltk\n",
    "from nltk.corpus import stopwords\n",
    "\n",
    "# Đọc dữ liệu\n",
    "try:\n",
    "    df = pd.read_csv('./data/Dataset_articles.csv')\n",
    "    print(f\"Đọc dữ liệu thành công! Shape: {df.shape}\")\n",
    "except FileNotFoundError:\n",
    "    print(\"Lỗi: Không tìm thấy file './data/Dataset_articles.csv'\")\n",
    "\n",
    "# Kiểm tra dữ liệu\n",
    "print(\"Thông tin cơ bản về dữ liệu:\")\n",
    "print(df.info())\n",
    "print(\"\\nKiểm tra giá trị null:\")\n",
    "print(df.isnull().sum())\n",
    "\n",
    "# Xử lý giá trị null\n",
    "df = df.dropna(subset=['Contents', 'Summary'])\n",
    "print(f\"\\nSau khi loại bỏ null: {df.shape}\")\n",
    "\n",
    "# Chuẩn hóa văn bản\n",
    "def clean_text(text):\n",
    "    if not isinstance(text, str):\n",
    "        return \"\"\n",
    "\n",
    "    # Loại bỏ khoảng trắng thừa\n",
    "    text = re.sub(r'\\s+', ' ', text).strip()\n",
    "    return text\n",
    "\n",
    "# Áp dụng hàm chuẩn hóa\n",
    "df['Contents_cleaned'] = df['Contents'].apply(clean_text)\n",
    "df['Summary_cleaned'] = df['Summary'].apply(clean_text)\n",
    "\n",
    "# Kiểm tra độ dài văn bản\n",
    "df['Contents_length'] = df['Contents'].apply(lambda x: len(str(x).split()))\n",
    "df['Summary_length'] = df['Summary'].apply(lambda x: len(str(x).split()))\n",
    "\n",
    "# Lọc dữ liệu theo độ dài\n",
    "df_filtered = df[(df['Contents_length'] > 50) & (df['Summary_length'] > 5)]\n",
    "print(f\"\\nSau khi lọc theo độ dài: {df_filtered.shape}\")\n",
    "\n",
    "# # Lưu dữ liệu đã xử lý\n",
    "# df_filtered.to_csv('./data/Dataset_articles_cleaned.csv', index=False)\n",
    "# print(\"Đã lưu dữ liệu đã xử lý vào './data/Dataset_articles_752025.csv'\")\n",
    "\n",
    "# Hiển thị mẫu dữ liệu\n",
    "print(\"\\nMẫu dữ liệu đã xử lý:\")\n",
    "print(df_filtered[['Contents_cleaned', 'Summary_cleaned']].head(2))\n",
    "\n",
    "# Tạo DataFrame mới chỉ chứa các cột đã làm sạch và đổi tên cột\n",
    "df_cleaned = df_filtered[['Contents_cleaned', 'Summary_cleaned']].copy()\n",
    "df_cleaned.columns = ['Contents', 'Summary']\n",
    "\n",
    "# Lưu vào file CSV\n",
    "df_cleaned.to_csv('./data/clean_data.csv', index=False)\n",
    "print(\"Đã lưu dữ liệu đã làm sạch vào './data/clean_data.csv'\")\n"
   ]
  },
  {
   "cell_type": "code",
   "execution_count": 4,
   "id": "ac7ca370",
   "metadata": {},
   "outputs": [],
   "source": [
    "\n",
    "# Chuyển dữ liệu thành Dataset của Hugging Face\n",
    "dataset = Dataset.from_pandas(df)"
   ]
  },
  {
   "cell_type": "code",
   "execution_count": 5,
   "id": "3c2a8bff",
   "metadata": {},
   "outputs": [
    {
     "name": "stdout",
     "output_type": "stream",
     "text": [
      "Đã lấy 10000 dòng đầu của 'data.csv' và lưu vào file 'data_10000.csv'\n"
     ]
    }
   ],
   "source": [
    "import pandas as pd\n",
    "\n",
    "try:\n",
    "    # Đọc file CSV, chỉ đọc 10000 dòng đầu\n",
    "    df = pd.read_csv('./data/clean_data.csv', nrows=2000)\n",
    "\n",
    "    # Lưu DataFrame chứa 10000 dòng đầu vào một file CSV mới\n",
    "    df.to_csv('data_2000.csv', index=False, encoding='utf-8')\n",
    "\n",
    "    print(\"Đã lấy 10000 dòng đầu của 'data.csv' và lưu vào file 'data_10000.csv'\")\n",
    "\n",
    "except FileNotFoundError:\n",
    "    print(\"Lỗi: Không tìm thấy file 'data.csv'. Vui lòng đảm bảo file tồn tại trong thư mục hiện tại.\")\n",
    "except Exception as e:\n",
    "    print(f\"Đã xảy ra lỗi: {e}\")"
   ]
  },
  {
   "cell_type": "code",
   "execution_count": 6,
   "id": "03a510a0",
   "metadata": {},
   "outputs": [
    {
     "ename": "NameError",
     "evalue": "name 'Dataset' is not defined",
     "output_type": "error",
     "traceback": [
      "\u001b[31m---------------------------------------------------------------------------\u001b[39m",
      "\u001b[31mNameError\u001b[39m                                 Traceback (most recent call last)",
      "\u001b[36mCell\u001b[39m\u001b[36m \u001b[39m\u001b[32mIn[6]\u001b[39m\u001b[32m, line 2\u001b[39m\n\u001b[32m      1\u001b[39m \u001b[38;5;66;03m# Chuyển dữ liệu thành Dataset của Hugging Face\u001b[39;00m\n\u001b[32m----> \u001b[39m\u001b[32m2\u001b[39m dataset = \u001b[43mDataset\u001b[49m.from_pandas(df)\n",
      "\u001b[31mNameError\u001b[39m: name 'Dataset' is not defined"
     ]
    }
   ],
   "source": [
    "# Chuyển dữ liệu thành Dataset của Hugging Face\n",
    "dataset = Dataset.from_pandas(df)"
   ]
  },
  {
   "cell_type": "code",
   "execution_count": null,
   "id": "3a2d062e",
   "metadata": {},
   "outputs": [],
   "source": []
  }
 ],
 "metadata": {
  "kernelspec": {
   "display_name": "Python 3",
   "language": "python",
   "name": "python3"
  },
  "language_info": {
   "codemirror_mode": {
    "name": "ipython",
    "version": 3
   },
   "file_extension": ".py",
   "mimetype": "text/x-python",
   "name": "python",
   "nbconvert_exporter": "python",
   "pygments_lexer": "ipython3",
   "version": "3.12.1"
  }
 },
 "nbformat": 4,
 "nbformat_minor": 5
}
